{
 "cells": [
  {
   "cell_type": "code",
   "execution_count": 1,
   "metadata": {},
   "outputs": [],
   "source": [
    "# 최적의 모델을 얻고 싶을 경우, 세션 재시작 후 CPU 코어 7개로 설정.\n",
    "import warnings\n",
    "warnings.filterwarnings('ignore')"
   ]
  },
  {
   "cell_type": "code",
   "execution_count": 1,
   "metadata": {
    "id": "qQ83K_lIrW66"
   },
   "outputs": [],
   "source": [
    "import os\n",
    "import numpy as np\n",
    "import pandas as pd\n",
    "import random\n",
    "import tensorflow as tf\n",
    "from tensorflow.keras.preprocessing.image import ImageDataGenerator\n",
    "from tensorflow.keras.layers import Conv2D, MaxPooling2D, GlobalAveragePooling2D, Flatten, Dense, Dropout\n",
    "from tensorflow.keras.models import Model, Sequential, load_model\n",
    "from tensorflow.keras.optimizers import Adam\n",
    "from tensorflow.keras.callbacks import EarlyStopping\n",
    "from sklearn.model_selection import train_test_split\n",
    "from keras.callbacks import ModelCheckpoint, ReduceLROnPlateau\n",
    "from tensorflow.keras.applications import ResNet50\n",
    "from tensorflow.keras.applications.resnet import ResNet101, ResNet152"
   ]
  },
  {
   "cell_type": "code",
   "execution_count": 3,
   "metadata": {},
   "outputs": [],
   "source": [
    "def seed_everything(seed=42):\n",
    "    random.seed(seed) # random\n",
    "    np.random.seed(seed) # np\n",
    "    os.environ[\"PYTHONHASHSEED\"] = str(seed) # os\n",
    "    tf.random.set_seed(seed) # tensorflow\n",
    "    os.environ['TF_DETERMINISTIC_OPS'] = '1'\n",
    "    os.environ['TF_CUDNN_DETERMINISTIC'] = '1'\n",
    "    tf.keras.utils.set_random_seed(seed)\n",
    "    tf.keras.backend.clear_session()\n",
    "    \n",
    "seed_everything()"
   ]
  },
  {
   "cell_type": "code",
   "execution_count": 4,
   "metadata": {},
   "outputs": [
    {
     "data": {
      "text/plain": [
       "'/home/work/KISTI_PCB2'"
      ]
     },
     "execution_count": 4,
     "metadata": {},
     "output_type": "execute_result"
    }
   ],
   "source": [
    "DATA_PATH = os.getcwd()\n",
    "DATA_PATH"
   ]
  },
  {
   "cell_type": "code",
   "execution_count": 5,
   "metadata": {},
   "outputs": [],
   "source": [
    "# 중앙집중형\n",
    "# All Data : PCB_CLF,\n",
    "# client 1 : C1_PCB_CLF\n",
    "# client 2 : C2_PCB_CLF\n",
    "client = 'C2_PCB_CLF'\n",
    "\n",
    "data_dir = os.path.join(DATA_PATH, f'{client}/')\n",
    "train_dir = os.path.join(data_dir, 'train/')\n",
    "test_dir = os.path.join(data_dir, 'test/')"
   ]
  },
  {
   "cell_type": "code",
   "execution_count": 6,
   "metadata": {},
   "outputs": [],
   "source": [
    "image_size = (416, 416)\n",
    "\n",
    "def load_images_and_labels(directory, image_size):\n",
    "    \n",
    "    labels = []\n",
    "    images = []\n",
    "    class_names = ['BADPCB', 'GOODPCB']\n",
    "    \n",
    "    for image_name in os.listdir(directory):\n",
    "\n",
    "        image_path = os.path.join(directory, image_name)\n",
    "        \n",
    "        if 'ipynb_checkpoint' in image_path:\n",
    "            continue\n",
    "        \n",
    "        image = tf.keras.preprocessing.image.load_img(image_path, target_size=image_size)\n",
    "        image = tf.keras.preprocessing.image.img_to_array(image)\n",
    "        images.append(image)\n",
    "        \n",
    "        # 파일 이름에 'GOODPCB'가 포함되어 있는지 확인\n",
    "        if 'GOODPCB' in image_name:\n",
    "            label = 1\n",
    "        else:\n",
    "            label = 0\n",
    "        \n",
    "        # 레이블과 이미지를 각각의 리스트에 추가\n",
    "        labels.append(label)\n",
    "\n",
    "    images = np.array(images)\n",
    "    labels = np.array(labels)\n",
    "\n",
    "    return images, labels, class_names\n",
    "    \n",
    "train_images, train_labels, class_names = load_images_and_labels(train_dir, image_size)\n",
    "test_images, test_labels, class_names =  load_images_and_labels(test_dir, image_size)"
   ]
  },
  {
   "cell_type": "code",
   "execution_count": 7,
   "metadata": {
    "colab": {
     "base_uri": "https://localhost:8080/"
    },
    "id": "UdOaTNnkSyxn",
    "outputId": "11ff7e19-ba4d-474f-f580-669e4f3c2370"
   },
   "outputs": [
    {
     "name": "stdout",
     "output_type": "stream",
     "text": [
      "218 246\n",
      "49 9\n"
     ]
    }
   ],
   "source": [
    "print(len(train_labels[train_labels == 0]), len(train_labels[train_labels == 1]))\n",
    "print(len(test_labels[test_labels == 0]), len(test_labels[test_labels == 1]))"
   ]
  },
  {
   "cell_type": "code",
   "execution_count": 8,
   "metadata": {
    "colab": {
     "base_uri": "https://localhost:8080/"
    },
    "id": "VgGngUG686tq",
    "outputId": "a15ef6c4-e528-49f6-b6dd-e2e0291950cd"
   },
   "outputs": [
    {
     "name": "stdout",
     "output_type": "stream",
     "text": [
      "(464, 416, 416, 3) (464,)\n",
      "(58, 416, 416, 3) (58,)\n",
      "['BADPCB', 'GOODPCB']\n"
     ]
    }
   ],
   "source": [
    "print(train_images.shape, train_labels.shape)\n",
    "print(test_images.shape, test_labels.shape)\n",
    "print(class_names)"
   ]
  },
  {
   "cell_type": "code",
   "execution_count": 9,
   "metadata": {
    "colab": {
     "base_uri": "https://localhost:8080/"
    },
    "id": "XKBgO9x_ApE6",
    "outputId": "47d6bebd-031a-4243-92d0-902ae6bb017c"
   },
   "outputs": [
    {
     "name": "stdout",
     "output_type": "stream",
     "text": [
      "0.0 255.0\n",
      "0.0 255.0\n"
     ]
    }
   ],
   "source": [
    "print(np.min(train_images), np.max(train_images))\n",
    "print(np.min(test_images), np.max(test_images))"
   ]
  },
  {
   "cell_type": "markdown",
   "metadata": {
    "id": "meMlFH9jIXht",
    "tags": []
   },
   "source": [
    "## Stratified K-Fold (Train-Validation-Test)"
   ]
  },
  {
   "cell_type": "code",
   "execution_count": 10,
   "metadata": {
    "collapsed": true,
    "jupyter": {
     "outputs_hidden": true
    },
    "tags": []
   },
   "outputs": [
    {
     "name": "stdout",
     "output_type": "stream",
     "text": [
      "Epoch 1/300\n",
      "39/39 [==============================] - 24s 297ms/step - loss: 0.3450 - accuracy: 0.8576 - val_loss: 0.3729 - val_accuracy: 0.9097 - lr: 1.0000e-04\n",
      "Epoch 2/300\n",
      "39/39 [==============================] - 9s 221ms/step - loss: 0.1239 - accuracy: 0.9547 - val_loss: 0.1824 - val_accuracy: 0.9484 - lr: 1.0000e-04\n",
      "Epoch 3/300\n",
      "39/39 [==============================] - 8s 213ms/step - loss: 0.0529 - accuracy: 0.9806 - val_loss: 0.1009 - val_accuracy: 0.9613 - lr: 1.0000e-04\n",
      "Epoch 4/300\n",
      "39/39 [==============================] - 7s 188ms/step - loss: 0.0522 - accuracy: 0.9806 - val_loss: 0.4343 - val_accuracy: 0.8710 - lr: 1.0000e-04\n",
      "Epoch 5/300\n",
      "39/39 [==============================] - 8s 198ms/step - loss: 0.0694 - accuracy: 0.9741 - val_loss: 0.3393 - val_accuracy: 0.9548 - lr: 1.0000e-04\n",
      "Epoch 6/300\n",
      "39/39 [==============================] - 7s 191ms/step - loss: 0.0868 - accuracy: 0.9838 - val_loss: 0.1500 - val_accuracy: 0.9548 - lr: 1.0000e-04\n",
      "Epoch 7/300\n",
      "39/39 [==============================] - 8s 194ms/step - loss: 0.0161 - accuracy: 1.0000 - val_loss: 0.1431 - val_accuracy: 0.9548 - lr: 1.0000e-04\n",
      "Epoch 8/300\n",
      "39/39 [==============================] - ETA: 0s - loss: 0.0190 - accuracy: 0.9968\n",
      "Epoch 00008: ReduceLROnPlateau reducing learning rate to 1.9999999494757503e-05.\n",
      "39/39 [==============================] - 8s 200ms/step - loss: 0.0190 - accuracy: 0.9968 - val_loss: 0.3036 - val_accuracy: 0.9484 - lr: 1.0000e-04\n",
      "Epoch 9/300\n",
      "39/39 [==============================] - 8s 203ms/step - loss: 0.0101 - accuracy: 1.0000 - val_loss: 0.2034 - val_accuracy: 0.9613 - lr: 2.0000e-05\n",
      "Epoch 10/300\n",
      "39/39 [==============================] - 8s 204ms/step - loss: 0.0248 - accuracy: 0.9968 - val_loss: 0.2160 - val_accuracy: 0.9355 - lr: 2.0000e-05\n",
      "Epoch 11/300\n",
      "39/39 [==============================] - 8s 196ms/step - loss: 0.0996 - accuracy: 0.9773 - val_loss: 0.1782 - val_accuracy: 0.9484 - lr: 2.0000e-05\n",
      "Epoch 12/300\n",
      "39/39 [==============================] - 8s 195ms/step - loss: 0.0126 - accuracy: 0.9935 - val_loss: 0.1168 - val_accuracy: 0.9613 - lr: 2.0000e-05\n",
      "Epoch 13/300\n",
      "39/39 [==============================] - ETA: 0s - loss: 0.0037 - accuracy: 1.0000\n",
      "Epoch 00013: ReduceLROnPlateau reducing learning rate to 3.999999898951501e-06.\n",
      "39/39 [==============================] - 8s 197ms/step - loss: 0.0037 - accuracy: 1.0000 - val_loss: 0.1158 - val_accuracy: 0.9613 - lr: 2.0000e-05\n",
      "Epoch 00013: early stopping\n",
      "5/5 - 3s - loss: 0.1009 - accuracy: 0.9613 - 3s/epoch - 576ms/step\n",
      "Epoch 1/300\n",
      "39/39 [==============================] - 15s 264ms/step - loss: 0.3230 - accuracy: 0.8479 - val_loss: 0.1627 - val_accuracy: 0.9097 - lr: 1.0000e-04\n",
      "Epoch 2/300\n",
      "39/39 [==============================] - 9s 231ms/step - loss: 0.1385 - accuracy: 0.9450 - val_loss: 0.1028 - val_accuracy: 0.9613 - lr: 1.0000e-04\n",
      "Epoch 3/300\n",
      "39/39 [==============================] - 8s 197ms/step - loss: 0.1136 - accuracy: 0.9644 - val_loss: 0.4649 - val_accuracy: 0.9226 - lr: 1.0000e-04\n",
      "Epoch 4/300\n",
      "39/39 [==============================] - 9s 225ms/step - loss: 0.0607 - accuracy: 0.9806 - val_loss: 0.0361 - val_accuracy: 0.9871 - lr: 1.0000e-04\n",
      "Epoch 5/300\n",
      "39/39 [==============================] - 8s 206ms/step - loss: 0.0217 - accuracy: 0.9903 - val_loss: 0.1156 - val_accuracy: 0.9806 - lr: 1.0000e-04\n",
      "Epoch 6/300\n",
      "39/39 [==============================] - 8s 195ms/step - loss: 0.0227 - accuracy: 0.9903 - val_loss: 0.4432 - val_accuracy: 0.9161 - lr: 1.0000e-04\n",
      "Epoch 7/300\n",
      "39/39 [==============================] - 8s 199ms/step - loss: 0.1694 - accuracy: 0.9644 - val_loss: 0.3523 - val_accuracy: 0.9419 - lr: 1.0000e-04\n",
      "Epoch 8/300\n",
      "39/39 [==============================] - 8s 204ms/step - loss: 0.1057 - accuracy: 0.9773 - val_loss: 0.3434 - val_accuracy: 0.9097 - lr: 1.0000e-04\n",
      "Epoch 9/300\n",
      "39/39 [==============================] - ETA: 0s - loss: 0.1119 - accuracy: 0.9579\n",
      "Epoch 00009: ReduceLROnPlateau reducing learning rate to 1.9999999494757503e-05.\n",
      "39/39 [==============================] - 8s 195ms/step - loss: 0.1119 - accuracy: 0.9579 - val_loss: 0.2990 - val_accuracy: 0.9484 - lr: 1.0000e-04\n",
      "Epoch 10/300\n",
      "39/39 [==============================] - 8s 196ms/step - loss: 0.0375 - accuracy: 0.9935 - val_loss: 0.0736 - val_accuracy: 0.9613 - lr: 2.0000e-05\n",
      "Epoch 11/300\n",
      "39/39 [==============================] - 8s 199ms/step - loss: 0.0209 - accuracy: 0.9935 - val_loss: 0.0463 - val_accuracy: 0.9677 - lr: 2.0000e-05\n",
      "Epoch 12/300\n",
      "39/39 [==============================] - 8s 194ms/step - loss: 0.0090 - accuracy: 0.9968 - val_loss: 0.0628 - val_accuracy: 0.9742 - lr: 2.0000e-05\n",
      "Epoch 13/300\n",
      "39/39 [==============================] - 8s 198ms/step - loss: 0.0100 - accuracy: 1.0000 - val_loss: 0.0421 - val_accuracy: 0.9806 - lr: 2.0000e-05\n",
      "Epoch 14/300\n",
      "39/39 [==============================] - 9s 229ms/step - loss: 0.0514 - accuracy: 0.9968 - val_loss: 0.0273 - val_accuracy: 0.9871 - lr: 2.0000e-05\n",
      "Epoch 15/300\n",
      "39/39 [==============================] - 8s 201ms/step - loss: 0.0107 - accuracy: 0.9968 - val_loss: 0.0325 - val_accuracy: 0.9871 - lr: 2.0000e-05\n",
      "Epoch 16/300\n",
      "39/39 [==============================] - 8s 206ms/step - loss: 0.0078 - accuracy: 1.0000 - val_loss: 0.0371 - val_accuracy: 0.9871 - lr: 2.0000e-05\n",
      "Epoch 17/300\n",
      "39/39 [==============================] - 8s 207ms/step - loss: 0.0045 - accuracy: 1.0000 - val_loss: 0.0311 - val_accuracy: 0.9871 - lr: 2.0000e-05\n",
      "Epoch 18/300\n",
      "39/39 [==============================] - 8s 199ms/step - loss: 0.0294 - accuracy: 0.9903 - val_loss: 0.1439 - val_accuracy: 0.9548 - lr: 2.0000e-05\n",
      "Epoch 19/300\n",
      "39/39 [==============================] - ETA: 0s - loss: 0.0173 - accuracy: 0.9903\n",
      "Epoch 00019: ReduceLROnPlateau reducing learning rate to 3.999999898951501e-06.\n",
      "39/39 [==============================] - 8s 199ms/step - loss: 0.0173 - accuracy: 0.9903 - val_loss: 0.0580 - val_accuracy: 0.9742 - lr: 2.0000e-05\n",
      "Epoch 20/300\n",
      "39/39 [==============================] - 8s 208ms/step - loss: 0.0028 - accuracy: 1.0000 - val_loss: 0.0540 - val_accuracy: 0.9806 - lr: 4.0000e-06\n",
      "Epoch 21/300\n",
      "39/39 [==============================] - 8s 208ms/step - loss: 0.0052 - accuracy: 1.0000 - val_loss: 0.0517 - val_accuracy: 0.9806 - lr: 4.0000e-06\n",
      "Epoch 22/300\n",
      "39/39 [==============================] - 8s 209ms/step - loss: 0.0067 - accuracy: 1.0000 - val_loss: 0.0509 - val_accuracy: 0.9806 - lr: 4.0000e-06\n",
      "Epoch 23/300\n",
      "39/39 [==============================] - 8s 205ms/step - loss: 0.0083 - accuracy: 0.9968 - val_loss: 0.0536 - val_accuracy: 0.9806 - lr: 4.0000e-06\n",
      "Epoch 24/300\n",
      "39/39 [==============================] - ETA: 0s - loss: 0.0103 - accuracy: 1.0000\n",
      "Epoch 00024: ReduceLROnPlateau reducing learning rate to 7.999999979801942e-07.\n",
      "39/39 [==============================] - 7s 193ms/step - loss: 0.0103 - accuracy: 1.0000 - val_loss: 0.0510 - val_accuracy: 0.9806 - lr: 4.0000e-06\n",
      "Epoch 00024: early stopping\n",
      "5/5 - 1s - loss: 0.0273 - accuracy: 0.9871 - 1s/epoch - 269ms/step\n",
      "Epoch 1/300\n",
      "39/39 [==============================] - 17s 306ms/step - loss: 0.3606 - accuracy: 0.8516 - val_loss: 0.1818 - val_accuracy: 0.9221 - lr: 1.0000e-04\n",
      "Epoch 2/300\n",
      "39/39 [==============================] - 9s 240ms/step - loss: 0.1490 - accuracy: 0.9484 - val_loss: 0.1251 - val_accuracy: 0.9545 - lr: 1.0000e-04\n",
      "Epoch 3/300\n",
      "39/39 [==============================] - 9s 227ms/step - loss: 0.0586 - accuracy: 0.9839 - val_loss: 0.0952 - val_accuracy: 0.9545 - lr: 1.0000e-04\n",
      "Epoch 4/300\n",
      "39/39 [==============================] - 9s 229ms/step - loss: 0.0435 - accuracy: 0.9839 - val_loss: 0.0711 - val_accuracy: 0.9740 - lr: 1.0000e-04\n",
      "Epoch 5/300\n",
      "39/39 [==============================] - 8s 196ms/step - loss: 0.1510 - accuracy: 0.9484 - val_loss: 1.0343 - val_accuracy: 0.8117 - lr: 1.0000e-04\n",
      "Epoch 6/300\n",
      "39/39 [==============================] - 8s 196ms/step - loss: 0.1049 - accuracy: 0.9645 - val_loss: 0.3172 - val_accuracy: 0.9351 - lr: 1.0000e-04\n",
      "Epoch 7/300\n",
      "39/39 [==============================] - 8s 204ms/step - loss: 0.1023 - accuracy: 0.9710 - val_loss: 0.7152 - val_accuracy: 0.8961 - lr: 1.0000e-04\n",
      "Epoch 8/300\n",
      "39/39 [==============================] - 8s 203ms/step - loss: 0.0720 - accuracy: 0.9806 - val_loss: 0.1283 - val_accuracy: 0.9545 - lr: 1.0000e-04\n",
      "Epoch 9/300\n",
      "39/39 [==============================] - ETA: 0s - loss: 0.0308 - accuracy: 0.9903\n",
      "Epoch 00009: ReduceLROnPlateau reducing learning rate to 1.9999999494757503e-05.\n",
      "39/39 [==============================] - 8s 197ms/step - loss: 0.0308 - accuracy: 0.9903 - val_loss: 0.0959 - val_accuracy: 0.9805 - lr: 1.0000e-04\n",
      "Epoch 10/300\n",
      "39/39 [==============================] - 8s 195ms/step - loss: 0.0194 - accuracy: 0.9903 - val_loss: 0.0887 - val_accuracy: 0.9805 - lr: 2.0000e-05\n",
      "Epoch 11/300\n",
      "39/39 [==============================] - 9s 220ms/step - loss: 0.0335 - accuracy: 0.9935 - val_loss: 0.0526 - val_accuracy: 0.9805 - lr: 2.0000e-05\n",
      "Epoch 12/300\n",
      "39/39 [==============================] - 8s 219ms/step - loss: 0.0165 - accuracy: 0.9935 - val_loss: 0.0297 - val_accuracy: 0.9935 - lr: 2.0000e-05\n",
      "Epoch 13/300\n",
      "39/39 [==============================] - 8s 207ms/step - loss: 0.0075 - accuracy: 1.0000 - val_loss: 0.0536 - val_accuracy: 0.9805 - lr: 2.0000e-05\n",
      "Epoch 14/300\n",
      "39/39 [==============================] - 8s 218ms/step - loss: 0.0076 - accuracy: 0.9968 - val_loss: 0.0481 - val_accuracy: 0.9805 - lr: 2.0000e-05\n",
      "Epoch 15/300\n",
      "39/39 [==============================] - 8s 196ms/step - loss: 0.0183 - accuracy: 0.9935 - val_loss: 0.0509 - val_accuracy: 0.9805 - lr: 2.0000e-05\n",
      "Epoch 16/300\n",
      "39/39 [==============================] - 8s 202ms/step - loss: 0.0212 - accuracy: 0.9935 - val_loss: 0.1847 - val_accuracy: 0.9481 - lr: 2.0000e-05\n",
      "Epoch 17/300\n",
      "39/39 [==============================] - ETA: 0s - loss: 0.0114 - accuracy: 0.9968\n",
      "Epoch 00017: ReduceLROnPlateau reducing learning rate to 3.999999898951501e-06.\n",
      "39/39 [==============================] - 8s 205ms/step - loss: 0.0114 - accuracy: 0.9968 - val_loss: 0.1545 - val_accuracy: 0.9610 - lr: 2.0000e-05\n",
      "Epoch 18/300\n",
      "39/39 [==============================] - 8s 199ms/step - loss: 0.0068 - accuracy: 0.9968 - val_loss: 0.1302 - val_accuracy: 0.9675 - lr: 4.0000e-06\n",
      "Epoch 19/300\n",
      "39/39 [==============================] - 8s 197ms/step - loss: 0.0079 - accuracy: 1.0000 - val_loss: 0.1037 - val_accuracy: 0.9740 - lr: 4.0000e-06\n",
      "Epoch 20/300\n",
      "39/39 [==============================] - 8s 200ms/step - loss: 0.0033 - accuracy: 1.0000 - val_loss: 0.0931 - val_accuracy: 0.9805 - lr: 4.0000e-06\n",
      "Epoch 21/300\n",
      "39/39 [==============================] - 8s 215ms/step - loss: 0.0052 - accuracy: 1.0000 - val_loss: 0.0869 - val_accuracy: 0.9805 - lr: 4.0000e-06\n",
      "Epoch 22/300\n",
      "39/39 [==============================] - ETA: 0s - loss: 0.0148 - accuracy: 0.9903\n",
      "Epoch 00022: ReduceLROnPlateau reducing learning rate to 7.999999979801942e-07.\n",
      "39/39 [==============================] - 8s 210ms/step - loss: 0.0148 - accuracy: 0.9903 - val_loss: 0.0662 - val_accuracy: 0.9805 - lr: 4.0000e-06\n",
      "Epoch 00022: early stopping\n",
      "5/5 - 2s - loss: 0.0297 - accuracy: 0.9935 - 2s/epoch - 418ms/step\n",
      "0.9806311925252278\n"
     ]
    }
   ],
   "source": [
    "from sklearn.model_selection import StratifiedKFold\n",
    "ACCURACY = []\n",
    "LOSS = []\n",
    "val_acc = 0\n",
    "fold_var = 1 # weight & model number\n",
    "epochs = 300\n",
    "best_model_accuracy = float(\"-inf\")\n",
    "best_model_loss = float(\"inf\")\n",
    "k = 3\n",
    "batch_size = 8\n",
    "\n",
    "skf = StratifiedKFold(n_splits=k, random_state=42, shuffle=True)\n",
    "for train_index, val_index in skf.split(train_images, train_labels):\n",
    "    X_train = train_images[train_index] # train data\n",
    "    y_train = train_labels[train_index]\n",
    "    X_val = train_images[val_index] # valid data\n",
    "    y_val = train_labels[val_index]\n",
    "    \n",
    "    \n",
    "    # ResNet50 사용 or ResNet101 or Resnet152\n",
    "    base_model = ResNet50(weights='imagenet', include_top=False, input_shape=(image_size[0], image_size[1], 3))\n",
    "    # 기존 CNN 모델에서의 Fully Connected 레이어 대신 Global Average Pooling 레이어 사용\n",
    "    x = base_model.output\n",
    "    x = GlobalAveragePooling2D()(x)\n",
    "    x = Dense(256, activation='relu')(x)\n",
    "    x = Dropout(0.5)(x)\n",
    "#     x = Dense(512, activation='relu')(x)\n",
    "#     x = Dropout(0.5)(x)\n",
    "    predictions = Dense(1, activation='sigmoid')(x)\n",
    "    \n",
    "    model = Model(inputs=base_model.input, outputs=predictions)\n",
    "    \n",
    "    model.compile(optimizer=Adam(learning_rate=0.0001), loss='binary_crossentropy', metrics=['accuracy'])\n",
    "\n",
    "    checkpoint_path = f\"./model_save_{client}/weight_\" + str(fold_var) + \".ckpt\"\n",
    "    modelcheckpoint = ModelCheckpoint(checkpoint_path, monitor='val_loss', mode='min', save_best_only=True,\n",
    "                                      save_weights_only=True)\n",
    "    # learning rate scheduler\n",
    "    reduce_lr = ReduceLROnPlateau(monitor='val_loss', factor=0.2, patience=5, verbose=1)\n",
    "    earlystopping = EarlyStopping(monitor='val_loss', mode='min', verbose=1, patience=10)\n",
    "    callbacks_list = [modelcheckpoint, earlystopping, reduce_lr]\n",
    "    \n",
    "   # FIT THE MODEL\n",
    "    history = model.fit(X_train,\n",
    "                        y_train,\n",
    "                        validation_data=(X_val, y_val),\n",
    "                        batch_size=batch_size,\n",
    "                        epochs=epochs,\n",
    "                        callbacks=callbacks_list  # Early Stopping 콜백 추가\n",
    "                       )\n",
    "    \n",
    "    model.load_weights(checkpoint_path)\n",
    "    model_path = f\"./model_save_{client}/model_\" + str(fold_var) + \".h5\"\n",
    "    model.save(model_path)\n",
    "    \n",
    "    results = model.evaluate(X_val, y_val, verbose=2)\n",
    "    results = dict(zip(model.metrics_names, results))\n",
    " \n",
    "\n",
    "    if results['accuracy'] > best_model_accuracy:\n",
    "        best_model_accuracy = results['accuracy']\n",
    "        best_model_loss = results['loss']\n",
    "        best_history = history\n",
    "        best_model = f'./model_save_{client}/model_' + f'{fold_var}.h5'  \n",
    "    elif (results['accuracy'] == best_model_accuracy) and (best_model_loss > results['loss']):\n",
    "        best_model_accuracy = results['accuracy']\n",
    "        best_model_loss = results['loss']\n",
    "        best_history = history\n",
    "        best_model = f'./model_save_{client}/model_' + f'{fold_var}.h5'  \n",
    "    \n",
    "    ACCURACY.append(results['accuracy'])\n",
    "    LOSS.append(results['loss'])\n",
    " \n",
    "    tf.keras.backend.clear_session() ########\n",
    " \n",
    "    fold_var += 1\n",
    " \n",
    "    val_acc += results['accuracy']/k # 평균 Acc\n",
    "    \n",
    "print(val_acc)"
   ]
  },
  {
   "cell_type": "code",
   "execution_count": 11,
   "metadata": {},
   "outputs": [
    {
     "name": "stdout",
     "output_type": "stream",
     "text": [
      "[0.9612902998924255, 0.9870967864990234, 0.9935064911842346]\n",
      "[0.10092673450708389, 0.027313515543937683, 0.029727857559919357]\n"
     ]
    }
   ],
   "source": [
    "print(ACCURACY)\n",
    "print(LOSS)"
   ]
  },
  {
   "cell_type": "code",
   "execution_count": 12,
   "metadata": {},
   "outputs": [
    {
     "data": {
      "text/plain": [
       "'./model_save_C2_PCB_CLF/model_3.h5'"
      ]
     },
     "execution_count": 12,
     "metadata": {},
     "output_type": "execute_result"
    }
   ],
   "source": [
    "best_model"
   ]
  },
  {
   "cell_type": "markdown",
   "metadata": {},
   "source": [
    "# Inference"
   ]
  },
  {
   "cell_type": "code",
   "execution_count": 13,
   "metadata": {
    "collapsed": true,
    "jupyter": {
     "outputs_hidden": true
    },
    "tags": []
   },
   "outputs": [
    {
     "data": {
      "text/plain": [
       "array([[[40., 49., 77.],\n",
       "        [40., 49., 77.],\n",
       "        [35., 54., 83.],\n",
       "        ...,\n",
       "        [31., 31., 31.],\n",
       "        [31., 31., 31.],\n",
       "        [31., 31., 31.]],\n",
       "\n",
       "       [[53., 61., 91.],\n",
       "        [53., 61., 91.],\n",
       "        [34., 56., 87.],\n",
       "        ...,\n",
       "        [31., 31., 31.],\n",
       "        [31., 31., 31.],\n",
       "        [31., 31., 31.]],\n",
       "\n",
       "       [[33., 43., 72.],\n",
       "        [33., 43., 72.],\n",
       "        [32., 48., 81.],\n",
       "        ...,\n",
       "        [31., 31., 31.],\n",
       "        [31., 31., 31.],\n",
       "        [31., 31., 31.]],\n",
       "\n",
       "       ...,\n",
       "\n",
       "       [[26., 85., 85.],\n",
       "        [26., 85., 85.],\n",
       "        [29., 82., 85.],\n",
       "        ...,\n",
       "        [31., 31., 31.],\n",
       "        [31., 31., 31.],\n",
       "        [31., 31., 31.]],\n",
       "\n",
       "       [[26., 86., 87.],\n",
       "        [26., 86., 87.],\n",
       "        [28., 84., 85.],\n",
       "        ...,\n",
       "        [31., 31., 31.],\n",
       "        [31., 31., 31.],\n",
       "        [31., 31., 31.]],\n",
       "\n",
       "       [[29., 89., 90.],\n",
       "        [29., 89., 90.],\n",
       "        [29., 87., 87.],\n",
       "        ...,\n",
       "        [31., 31., 31.],\n",
       "        [31., 31., 31.],\n",
       "        [31., 31., 31.]]], dtype=float32)"
      ]
     },
     "execution_count": 13,
     "metadata": {},
     "output_type": "execute_result"
    }
   ],
   "source": [
    "test_images[0]"
   ]
  },
  {
   "cell_type": "code",
   "execution_count": 14,
   "metadata": {},
   "outputs": [
    {
     "data": {
      "text/plain": [
       "(58, 416, 416, 3)"
      ]
     },
     "execution_count": 14,
     "metadata": {},
     "output_type": "execute_result"
    }
   ],
   "source": [
    "test_images.shape"
   ]
  },
  {
   "cell_type": "code",
   "execution_count": 15,
   "metadata": {},
   "outputs": [
    {
     "name": "stdout",
     "output_type": "stream",
     "text": [
      "2/2 - 1s - loss: 0.1034 - accuracy: 0.9828 - 1s/epoch - 629ms/step\n"
     ]
    },
    {
     "data": {
      "text/plain": [
       "[0.10343366116285324, 0.982758641242981]"
      ]
     },
     "execution_count": 15,
     "metadata": {},
     "output_type": "execute_result"
    }
   ],
   "source": [
    "# val_accuracy 중 가장 좋은 모델로 test set을 평가\n",
    "from tensorflow.keras.models import load_model\n",
    "\n",
    "load_model = load_model(best_model)\n",
    "load_model.evaluate(test_images, test_labels, verbose=2)"
   ]
  },
  {
   "cell_type": "markdown",
   "metadata": {},
   "source": [
    "- PCB_CLF best model : './model_save_PCB_CLF/model_1.h5'\n",
    "- C1_PCB_CLF best model : './model_save_C1_PCB_CLF/model_2.h5'\n",
    "- C2_PCB_CLF best model : './model_save_C2_PCB_CLF/model_3.h5'"
   ]
  },
  {
   "cell_type": "code",
   "execution_count": 63,
   "metadata": {},
   "outputs": [
    {
     "name": "stdout",
     "output_type": "stream",
     "text": [
      "2/2 - 2s - loss: 0.0151 - accuracy: 1.0000 - 2s/epoch - 900ms/step\n"
     ]
    },
    {
     "data": {
      "text/plain": [
       "[0.015135773457586765, 1.0]"
      ]
     },
     "execution_count": 63,
     "metadata": {},
     "output_type": "execute_result"
    }
   ],
   "source": [
    "# val_accuracy 중 가장 좋은 모델로 test set을 평가\n",
    "from tensorflow.keras.models import load_model\n",
    "\n",
    "load_model = load_model('./model_save_PCB_CLF/model_1.h5')\n",
    "load_model.evaluate(test_images, test_labels, verbose=2)"
   ]
  },
  {
   "cell_type": "code",
   "execution_count": 16,
   "metadata": {},
   "outputs": [
    {
     "data": {
      "text/plain": [
       "0.00019434227"
      ]
     },
     "execution_count": 16,
     "metadata": {},
     "output_type": "execute_result"
    }
   ],
   "source": [
    "load_model.predict(test_images).flatten()[0]"
   ]
  },
  {
   "cell_type": "code",
   "execution_count": 17,
   "metadata": {},
   "outputs": [
    {
     "data": {
      "text/plain": [
       "array([0, 0, 0, 0, 1, 0, 0, 0, 0, 0, 0, 0, 0, 0, 0, 1, 0, 0, 0, 0, 0, 0,\n",
       "       0, 0, 0, 0, 0, 1, 0, 0, 1, 0, 1, 0, 0, 1, 0, 0, 1, 0, 0, 0, 0, 0,\n",
       "       0, 0, 1, 0, 0, 0, 0, 0, 0, 0, 0, 0, 0, 1])"
      ]
     },
     "execution_count": 17,
     "metadata": {},
     "output_type": "execute_result"
    }
   ],
   "source": [
    "test_labels"
   ]
  },
  {
   "cell_type": "code",
   "execution_count": 18,
   "metadata": {},
   "outputs": [
    {
     "data": {
      "text/plain": [
       "array([0, 0, 0, 0, 1, 0, 0, 0, 0, 0, 0, 0, 0, 0, 0, 1, 0, 0, 0, 0, 0, 0,\n",
       "       0, 0, 0, 0, 0, 1, 0, 0, 1, 0, 1, 0, 0, 1, 1, 0, 1, 0, 0, 0, 0, 0,\n",
       "       0, 0, 1, 0, 0, 0, 0, 0, 0, 0, 0, 0, 0, 1])"
      ]
     },
     "execution_count": 18,
     "metadata": {},
     "output_type": "execute_result"
    }
   ],
   "source": [
    "(load_model.predict(test_images) > 0.5).astype(int).flatten()"
   ]
  },
  {
   "cell_type": "code",
   "execution_count": 19,
   "metadata": {},
   "outputs": [
    {
     "data": {
      "image/png": "[encoded data removed]",
      "text/plain": [
       "<Figure size 864x288 with 2 Axes>"
      ]
     },
     "metadata": {
      "needs_background": "light"
     },
     "output_type": "display_data"
    },
    {
     "name": "stdout",
     "output_type": "stream",
     "text": [
      "Micro F1-Score: 0.9827586206896551\n",
      "Macro F1-Score: 0.9685295713510581\n",
      "              precision    recall  f1-score   support\n",
      "\n",
      "      BADPCB       1.00      0.98      0.99        49\n",
      "     GOODPCB       0.90      1.00      0.95         9\n",
      "\n",
      "    accuracy                           0.98        58\n",
      "   macro avg       0.95      0.99      0.97        58\n",
      "weighted avg       0.98      0.98      0.98        58\n",
      "\n"
     ]
    }
   ],
   "source": [
    "import matplotlib.pyplot as plt\n",
    "from sklearn.metrics import f1_score, classification_report\n",
    "\n",
    "# Loss 그래프 그리기\n",
    "plt.figure(figsize=(12, 4))\n",
    "plt.subplot(1, 2, 1)\n",
    "plt.plot(best_history.history['loss'], label='Train Loss')\n",
    "plt.plot(best_history.history['val_loss'], label='Validation Loss')\n",
    "plt.title('Loss')\n",
    "plt.xlabel('Epoch')\n",
    "plt.ylabel('Loss')\n",
    "plt.legend()\n",
    "\n",
    "# Accuracy 그래프 그리기\n",
    "plt.subplot(1, 2, 2)\n",
    "plt.plot(best_history.history['accuracy'], label='Train Accuracy')\n",
    "plt.plot(best_history.history['val_accuracy'], label='Validation Accuracy')\n",
    "plt.title('Accuracy')\n",
    "plt.xlabel('Epoch')\n",
    "plt.ylabel('Accuracy')\n",
    "plt.legend()\n",
    "\n",
    "plt.tight_layout()\n",
    "plt.show()\n",
    "\n",
    "# 테스트 데이터셋에 대한 예측\n",
    "y_pred = load_model.predict(test_images)\n",
    "y_pred = (y_pred > 0.5).astype(int)\n",
    "\n",
    "# F1-score 계산 및 출력\n",
    "f1_micro = f1_score(test_labels, y_pred, average='micro')\n",
    "f1_macro = f1_score(test_labels, y_pred, average='macro')\n",
    "print(\"Micro F1-Score:\", f1_micro)\n",
    "print(\"Macro F1-Score:\", f1_macro)\n",
    "\n",
    "# 클래스별 precision, recall, f1-score 출력\n",
    "class_report = classification_report(test_labels, y_pred, target_names=class_names)\n",
    "print(class_report)"
   ]
  },
  {
   "cell_type": "code",
   "execution_count": 20,
   "metadata": {},
   "outputs": [
    {
     "data": {
      "image/png": "[encoded data removed]",
      "text/plain": [
       "<Figure size 576x432 with 2 Axes>"
      ]
     },
     "metadata": {
      "needs_background": "light"
     },
     "output_type": "display_data"
    }
   ],
   "source": [
    "import matplotlib.pyplot as plt\n",
    "from sklearn.metrics import confusion_matrix\n",
    "import seaborn as sns\n",
    "\n",
    "# 혼동 행렬 생성\n",
    "confusion_mtx = confusion_matrix(test_labels, y_pred)\n",
    "\n",
    "# 혼동 행렬 시각화\n",
    "plt.figure(figsize=(8, 6))\n",
    "sns.heatmap(confusion_mtx, annot=True, fmt=\"d\", cmap=\"Blues\",\n",
    "            xticklabels=class_names, yticklabels=class_names)\n",
    "plt.xlabel('Predicted')\n",
    "plt.ylabel('True')\n",
    "plt.title('Confusion Matrix')\n",
    "plt.show()"
   ]
  },
  {
   "cell_type": "code",
   "execution_count": 21,
   "metadata": {},
   "outputs": [
    {
     "data": {
      "image/png": "[encoded data removed]",
      "text/plain": [
       "<Figure size 864x432 with 1 Axes>"
      ]
     },
     "metadata": {
      "needs_background": "light"
     },
     "output_type": "display_data"
    }
   ],
   "source": [
    "# 테스트 데이터셋에서 예측이 잘못된 이미지 확인\n",
    "y_pred_classes = y_pred.flatten()\n",
    "incorrect_predictions = np.where(y_pred_classes != test_labels)[0]\n",
    "\n",
    "plt.figure(figsize=(12, 6))\n",
    "for i, idx in enumerate(incorrect_predictions[:10]):\n",
    "    plt.subplot(2, 5, i + 1)\n",
    "    plt.imshow(test_images[idx] / 255.0)\n",
    "    true_label = class_names[test_labels[idx]]\n",
    "    predicted_label = class_names[y_pred_classes[idx]]\n",
    "    plt.title(f'True: {true_label}\\nPredicted: {predicted_label}', color='red')\n",
    "    plt.axis('off')\n",
    "\n",
    "plt.tight_layout()\n",
    "plt.show()"
   ]
  },
  {
   "cell_type": "code",
   "execution_count": null,
   "metadata": {},
   "outputs": [],
   "source": []
  }
 ],
 "metadata": {
  "accelerator": "GPU",
  "colab": {
   "provenance": []
  },
  "kernelspec": {
   "display_name": "TensorFlow 2.7 on Python 3.8 & CUDA 11.3",
   "language": "python",
   "name": "python3"
  },
  "language_info": {
   "codemirror_mode": {
    "name": "ipython",
    "version": 3
   },
   "file_extension": ".py",
   "mimetype": "text/x-python",
   "name": "python",
   "nbconvert_exporter": "python",
   "pygments_lexer": "ipython3",
   "version": "3.8.10"
  }
 },
 "nbformat": 4,
 "nbformat_minor": 4
}
