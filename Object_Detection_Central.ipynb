{
 "cells": [
  {
   "cell_type": "markdown",
   "metadata": {},
   "source": [
    "# Object Detection (Centralized)"
   ]
  },
  {
   "cell_type": "code",
   "execution_count": null,
   "metadata": {},
   "outputs": [],
   "source": [
    "# 최적의 모델을 얻고 싶을 경우, 세션 재시작 후 CPU 코어 8개로 설정.\n",
    "import os\n",
    "os.environ[\"CUBLAS_WORKSPACE_CONFIG\"] = \":4096:8\""
   ]
  },
  {
   "cell_type": "code",
   "execution_count": null,
   "metadata": {},
   "outputs": [],
   "source": [
    "import warnings\n",
    "warnings.filterwarnings('ignore')"
   ]
  },
  {
   "cell_type": "code",
   "execution_count": null,
   "metadata": {
    "tags": []
   },
   "outputs": [],
   "source": [
    "!pip install pybboxes albumentations==1.3.0 --upgrade typing-extensions torch"
   ]
  },
  {
   "cell_type": "code",
   "execution_count": null,
   "metadata": {},
   "outputs": [],
   "source": [
    "import albumentations as A\n",
    "from augmentation import get_bboxes_list, apply_aug\n",
    "import yaml"
   ]
  },
  {
   "cell_type": "code",
   "execution_count": null,
   "metadata": {
    "id": "_pvnnr8twbMk",
    "tags": []
   },
   "outputs": [],
   "source": [
    "import shutil\n",
    "import zipfile\n",
    "import numpy as np\n",
    "import pandas as pd\n",
    "from PIL import Image\n",
    "import PIL\n",
    "import json\n",
    "import sys\n",
    "import shutil\n",
    "from distutils.dir_util import copy_tree\n",
    "# import imagesize\n",
    "# import ptitprince as pt\n",
    "from shutil import copyfile\n",
    "import time\n",
    "import matplotlib.pyplot as plt\n",
    "import matplotlib.patches as patches\n",
    "import matplotlib.patches as mpatches\n",
    "import seaborn as sns\n",
    "import re\n",
    "import xml.etree.ElementTree as ET\n",
    "from sklearn.model_selection import train_test_split\n",
    "import random\n",
    "import torch\n",
    "from tqdm.notebook import tqdm\n",
    "import cv2\n",
    "from collections import defaultdict\n",
    "import glob"
   ]
  },
  {
   "cell_type": "code",
   "execution_count": null,
   "metadata": {},
   "outputs": [],
   "source": [
    "def seed_everything(seed=42):\n",
    "    random.seed(seed)\n",
    "    np.random.seed(seed)\n",
    "    torch.manual_seed(seed)\n",
    "    torch.cuda.manual_seed_all(seed)\n",
    "    torch.backends.cudnn.benchmark = False\n",
    "    torch.use_deterministic_algorithms(True)\n",
    "    os.environ[\"PYTHONHASHSEED\"] = str(seed)\n",
    "    os.environ[\"TF_ENABLE_ONEDNN_OPTS\"] = \"0\"\n",
    "seed_everything()"
   ]
  },
  {
   "cell_type": "code",
   "execution_count": null,
   "metadata": {},
   "outputs": [],
   "source": [
    "client = 'PCB' # All dataset\n",
    "class_name = ['SCRATCH', 'DELAMINATION', 'POP_CORN_1', 'POP_CORN_2'] # BOXING_TXT_1013"
   ]
  },
  {
   "cell_type": "markdown",
   "metadata": {
    "id": "AP1bUPjxsduu"
   },
   "source": [
    "## 데이터 증강"
   ]
  },
  {
   "cell_type": "code",
   "execution_count": null,
   "metadata": {
    "colab": {
     "base_uri": "https://localhost:8080/",
     "height": 1000
    },
    "id": "yD8gUXEHukM0",
    "outputId": "78f2580f-f2f3-4e60-b630-7c1f3dc3e900",
    "tags": []
   },
   "outputs": [],
   "source": [
    "# # 데이터 증강했으면 재증강하지 않는다.\n",
    "# # YAML 데이터 생성\n",
    "# data = {\n",
    "#     \"inp_img_pth\": f\"./{client}/train/images/\",\n",
    "#     \"inp_lab_pth\": f\"./{client}/train/labels/\",\n",
    "#     \"out_img_pth\": f\"./{client}/train/images/\",\n",
    "#     \"out_lab_pth\": f\"./{client}/train/labels/\",\n",
    "#     \"transformed_file_name\": \"AUG\",\n",
    "#     \"CLASSES\": class_name\n",
    "# }\n",
    "\n",
    "# # YAML 파일에 데이터 쓰기\n",
    "# with open(f\"./{client}/train_contants.yaml\", 'w') as yaml_file:\n",
    "#     yaml.dump(data, yaml_file)\n",
    "\n",
    "# with open(f\"./{client}/train_contants.yaml\", 'r') as stream:\n",
    "#     CONSTANTS = yaml.safe_load(stream)\n",
    "\n",
    "# imgs = os.listdir(CONSTANTS[\"inp_img_pth\"])\n",
    "# for img_file in tqdm(imgs):\n",
    "#     file_name = img_file[:-4]\n",
    "#     if 'ipynb_checkpo' in file_name:\n",
    "#         continue\n",
    "#     image = cv2.imread(os.path.join(CONSTANTS[\"inp_img_pth\"], img_file))\n",
    "#     lab_pth = os.path.join(CONSTANTS[\"inp_lab_pth\"], file_name + '.txt')\n",
    "#     album_bboxes = get_bboxes_list(lab_pth, CONSTANTS['CLASSES'])\n",
    "#     print(file_name)\n",
    "#     # x번의 데이터 증강을 수행하고 각각의 결과를 저장 range(1, x) <- 여기를 변경\n",
    "#     for i in range(1, 5):\n",
    "#         aug_file_name = f\"{file_name}_AUG_{i}\"\n",
    "#         try:\n",
    "#             apply_aug(image, album_bboxes, CONSTANTS[\"out_lab_pth\"], CONSTANTS[\"out_img_pth\"], aug_file_name, CONSTANTS['CLASSES'])\n",
    "#         except Exception as e:\n",
    "#             print(f\"An error occurred for {aug_file_name}: {str(e)}\")\n",
    "#             continue  # 에러 발생 시 해당 부분을 건너뛰고 계속 진행"
   ]
  },
  {
   "cell_type": "markdown",
   "metadata": {
    "id": "n8XfdyUDz7hz"
   },
   "source": [
    "## YAML 파일 생성"
   ]
  },
  {
   "cell_type": "code",
   "execution_count": null,
   "metadata": {},
   "outputs": [],
   "source": [
    "# yaml 파일 생성\n",
    "data = { 'train' : os.getcwd() + f'/{client}/train/images',\n",
    "         'val' : os.getcwd() + f'/{client}/valid/images/',\n",
    "         'test' : os.getcwd() + f'/{client}/test/images',\n",
    "         'names' : class_name,\n",
    "         'nc' : len(class_name) }\n",
    "\n",
    "with open(f'./{client}/PCB.yaml', 'w') as f:\n",
    "    yaml.dump(data, f)\n",
    "\n",
    "with open(f'./{client}/PCB.yaml', 'r') as f:\n",
    "    pcb_yaml = yaml.safe_load(f)\n",
    "    display(pcb_yaml)"
   ]
  },
  {
   "cell_type": "code",
   "execution_count": null,
   "metadata": {
    "colab": {
     "base_uri": "https://localhost:8080/"
    },
    "id": "JKq5G4NixXiE",
    "outputId": "da914f66-ae5b-4032-a4a7-251da9cd19e2",
    "tags": []
   },
   "outputs": [],
   "source": [
    "!cat ./{client}/PCB.yaml"
   ]
  },
  {
   "cell_type": "markdown",
   "metadata": {
    "id": "5og_aEPFxnG-"
   },
   "source": [
    "## YOLOv5n Train"
   ]
  },
  {
   "cell_type": "code",
   "execution_count": null,
   "metadata": {},
   "outputs": [],
   "source": [
    "if os.getcwd() != '/home/work/KISTI_PCB2/yolov5':\n",
    "    os.chdir('./yolov5')\n",
    "os.getcwd()"
   ]
  },
  {
   "cell_type": "code",
   "execution_count": null,
   "metadata": {
    "tags": []
   },
   "outputs": [],
   "source": [
    "!python train.py --data \"/home/work/KISTI_PCB2/{client}/PCB.yaml\" \\\n",
    "    --epochs 300 \\\n",
    "    --patience 15 \\\n",
    "    --batch 32 \\\n",
    "    --imgsz 640 \\\n",
    "    --weights 'yolov5n.pt' \\\n",
    "    --name '{client}_train_results' \\\n",
    "    --exist-ok"
   ]
  },
  {
   "cell_type": "markdown",
   "metadata": {},
   "source": [
    "## YOLOv5n Test (inference)"
   ]
  },
  {
   "cell_type": "code",
   "execution_count": null,
   "metadata": {},
   "outputs": [],
   "source": [
    "if os.getcwd() != '/home/work/KISTI_PCB2/yolov5':\n",
    "    os.chdir('./yolov5')\n",
    "os.getcwd()"
   ]
  },
  {
   "cell_type": "code",
   "execution_count": null,
   "metadata": {},
   "outputs": [],
   "source": [
    "!python val.py --data \"/home/work/KISTI_PCB2/{client}/PCB.yaml\" --weights \"/home/work/KISTI_PCB2/yolov5/runs/train/{client}_train_results/weights/best.pt\" --task 'test' --name '{client}_result_final(central)' --exist-ok"
   ]
  },
  {
   "cell_type": "code",
   "execution_count": null,
   "metadata": {},
   "outputs": [],
   "source": [
    "!python detect.py --source \"/home/work/KISTI_PCB2/{client}/test/images\" \\\n",
    "    --weights \"/home/work/KISTI_PCB2/yolov5/runs/train/{client}_train_results/weights/best.pt\" \\\n",
    "    --exist-ok \\\n",
    "    --line-thickness 2 \\\n",
    "    --name '{client}_detect_results(central)'"
   ]
  }
 ],
 "metadata": {
  "accelerator": "GPU",
  "colab": {
   "gpuType": "T4",
   "provenance": []
  },
  "kernelspec": {
   "display_name": "TensorFlow 2.7 on Python 3.8 & CUDA 11.3",
   "language": "python",
   "name": "python3"
  },
  "language_info": {
   "codemirror_mode": {
    "name": "ipython",
    "version": 3
   },
   "file_extension": ".py",
   "mimetype": "text/x-python",
   "name": "python",
   "nbconvert_exporter": "python",
   "pygments_lexer": "ipython3",
   "version": "3.8.10"
  }
 },
 "nbformat": 4,
 "nbformat_minor": 4
}
